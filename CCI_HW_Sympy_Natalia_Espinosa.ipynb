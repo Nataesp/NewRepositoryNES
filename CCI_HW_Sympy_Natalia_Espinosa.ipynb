{
 "cells": [
  {
   "cell_type": "markdown",
   "id": "d4c0e1b1",
   "metadata": {},
   "source": [
    "# Estadística aplicada"
   ]
  },
  {
   "cell_type": "markdown",
   "id": "404ade96",
   "metadata": {},
   "source": [
    "La estadística es una rama de las matemáticas que se encarga de recolectar, analizar e interpretar datos. En la estadística aplicada, utilizamos estas herramientas para tomar decisiones informadas en el mundo real.\n",
    "\n",
    "#### Algunos conceptos básicos\n",
    "\n",
    "Antes de comenzar a analizar datos, es importante tener una comprensión clara de algunos conceptos básicos de la estadística. Estos incluyen:\n",
    "\n",
    "<ul> \n",
    "  <li>Población: es el conjunto completo de individuos, objetos, eventos o medidas que estamos estudiando. Por ejemplo, si estamos interesados en estudiar el rendimiento académico de los estudiantes universitarios, la población sería todos los estudiantes universitarios en el mundo.</li>\n",
    "   <li>Muestra: es una porción representativa de la población que hemos seleccionado para estudiar. En el ejemplo anterior, podríamos seleccionar una muestra de estudiantes universitarios de una o varias universidades para estudiar su rendimiento académico.</li>\n",
    "   <li>Variable: es una característica o atributo que medimos en cada individuo de la población o la muestra. En el ejemplo anterior, la variable sería el rendimiento académico de los estudiantes universitarios.</li>\n",
    "   <li>Datos: son los valores que obtenemos al medir la variable en cada individuo de la población o la muestra.</li>\n",
    "</ul>\n",
    "    \n",
    "  "
   ]
  },
  {
   "cell_type": "markdown",
   "id": "b47590b7",
   "metadata": {},
   "source": [
    "### Distribuciones de probabilidad\n",
    "\n",
    "Una distribución de probabilidad describe la forma en que se distribuyen los valores de una variable en una población o muestra. Algunos ejemplos comunes de distribuciones de probabilidad incluyen la distribución normal y la distribución binomial.\n",
    "\n",
    "Para trabajar con distribuciones de probabilidad en Python, podemos utilizar la librería SymPy. A continuación, se muestra un ejemplo de cómo crear una distribución normal utilizando SymPy:"
   ]
  },
  {
   "cell_type": "code",
   "execution_count": 1,
   "id": "fc8291b3",
   "metadata": {},
   "outputs": [],
   "source": [
    "from sympy import *\n",
    "from sympy.stats import Normal\n",
    "\n",
    "# Creamos una variable aleatoria normal con media 0 y desviación estándar 1\n",
    "X = Normal('X', 0, 1)"
   ]
  },
  {
   "cell_type": "markdown",
   "id": "99e9fb3d",
   "metadata": {},
   "source": [
    "### Estadística descriptiva\n",
    "\n",
    "Se utiliza para resumir y describir los datos que se han recolectado. Algunas medidas comunes de la estadística descriptiva incluyen la media, la mediana y la desviación estándar.\n",
    "\n",
    "Para calcular estas medidas en Python, podemos utilizar la librería NumPy. A continuación, se muestra un ejemplo de cómo calcular la media y la desviación estándar de una muestra de datos utilizando NumPy:"
   ]
  },
  {
   "cell_type": "code",
   "execution_count": 20,
   "id": "91ba0d24",
   "metadata": {},
   "outputs": [
    {
     "name": "stdout",
     "output_type": "stream",
     "text": [
      "Muestra de datos aleatorios:\n",
      "[0.37280993 0.01989574 0.51839282 0.53186266 0.22768832 0.33743887\n",
      " 2.04368314 1.44990838 1.06346246 1.09009537 0.58430592 1.30122747\n",
      " 1.16339078 0.11435206 1.19485672 0.40062012 0.8064122  0.28163039\n",
      " 0.22500745 0.92039841 0.0625046  0.4154492  0.30073741 0.18829405\n",
      " 0.78971321 1.1950981  0.14870314 0.36325849 0.18364471 0.25906843\n",
      " 1.75468023 0.17842956 0.09388832 0.92692231 1.2487923  0.29698232\n",
      " 0.71668366 0.56022595 1.81862078 1.86142285 0.43950496 1.77930481\n",
      " 1.75245987 0.87568842 0.47479834 0.12947828 0.01204131 1.02219483\n",
      " 0.87635114 1.85566806]\n",
      "Media: 0.7582949144807428\n",
      "Desviación estándar: 0.5861358153007462\n"
     ]
    }
   ],
   "source": [
    "import numpy as np\n",
    "\n",
    "# Creamos una muestra de datos aleatorios\n",
    "data = np.random.normal(0, 1, 100)\n",
    "data = data[data > 0]\n",
    "\n",
    "# Calculamos la media y la desviación estándar de la muestra\n",
    "mean = np.mean(data)\n",
    "std = np.std(data)\n",
    "\n",
    "# Valores de la muestra\n",
    "print(\"Muestra de datos aleatorios:\")\n",
    "print(data[:50])\n",
    "\n",
    "\n",
    "print(f\"Media: {mean}\")\n",
    "print(f\"Desviación estándar: {std}\")\n"
   ]
  },
  {
   "cell_type": "markdown",
   "id": "c7a45f70",
   "metadata": {},
   "source": [
    "### Inferencia estadística\n",
    "\n",
    "La inferencia estadística se utiliza para hacer generalizaciones sobre una población a partir de una muestra de datos. Esto implica utilizar las herramientas de la estadística para estimar parámetros desconocidos de la población, como la media o la proporción.\n",
    "\n",
    "Una técnica común de inferencia estadística es el intervalo de confianza, que nos proporciona un rango de valores dentro del cual podemos estar seguros de que se encuentra el verdadero valor del parámetro con un cierto nivel de confianza.\n",
    "\n",
    "Para calcular intervalos de confianza en Python, podemos utilizar la librería SciPy. A continuación, se muestra un ejemplo de cómo calcular un intervalo de confianza para la media de una población a partir de una muestra de datos utilizando SciPy:"
   ]
  },
  {
   "cell_type": "code",
   "execution_count": 27,
   "id": "c40479cb",
   "metadata": {},
   "outputs": [
    {
     "name": "stdout",
     "output_type": "stream",
     "text": [
      "Muestra de datos aleatorios:\n",
      "[0.76845365 1.96842414 0.52627048 0.09987524 0.66044461 1.09938746\n",
      " 1.07592051 0.27426042 0.27184328 0.50946624 2.22240871 2.20020612\n",
      " 0.06225586 0.2691279  0.31762115 0.53087738 0.10314211 0.69602726]\n",
      "Intervalo de confianza del 95% para la media poblacional: (0.4351536329032178, 1.0821810917681047)\n"
     ]
    }
   ],
   "source": [
    "from scipy import stats\n",
    "\n",
    "# Creamos una muestra de datos aleatorios\n",
    "data = np.random.normal(0, 1, 50)\n",
    "data = data[data > 0]\n",
    "\n",
    "# Calculamos el intervalo de confianza del 95% para la media poblacional\n",
    "ci = stats.norm.interval(0.95, loc=np.mean(data), scale=stats.sem(data))\n",
    "\n",
    "# Valores de la muestra\n",
    "print(\"Muestra de datos aleatorios:\")\n",
    "print(data[:30])\n",
    "\n",
    "print(f\"Intervalo de confianza del 95% para la media poblacional: {ci}\")\n"
   ]
  },
  {
   "cell_type": "markdown",
   "id": "9b59bc53",
   "metadata": {},
   "source": [
    "### Variables aleatorias\n",
    "\n",
    "Una variable aleatoria es una variable cuyo valor depende del resultado de un experimento aleatorio. Por ejemplo, si lanzamos un dado, la variable aleatoria sería el resultado del lanzamiento. Podemos clasificar las variables aleatorias en dos categorías: discretas y continuas."
   ]
  },
  {
   "cell_type": "markdown",
   "id": "5a941662",
   "metadata": {},
   "source": [
    "En este Notebook de Jupyter hemos repasado algunos conceptos básicos de la estadística aplicada, incluyendo población, muestra, variable, datos, distribuciones de probabilidad, estadística descriptiva e inferencia estadística. Además, hemos utilizado herramientas de programación simbólica como SymPy y librerías de Python como NumPy y SciPy para aplicar estos conceptos en la práctica. "
   ]
  }
 ],
 "metadata": {
  "kernelspec": {
   "display_name": "Python 3 (ipykernel)",
   "language": "python",
   "name": "python3"
  },
  "language_info": {
   "codemirror_mode": {
    "name": "ipython",
    "version": 3
   },
   "file_extension": ".py",
   "mimetype": "text/x-python",
   "name": "python",
   "nbconvert_exporter": "python",
   "pygments_lexer": "ipython3",
   "version": "3.9.7"
  }
 },
 "nbformat": 4,
 "nbformat_minor": 5
}
